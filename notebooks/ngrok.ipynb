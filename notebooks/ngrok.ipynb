{
 "cells": [
  {
   "cell_type": "code",
   "execution_count": null,
   "metadata": {
    "collapsed": false,
    "deletable": true,
    "editable": true
   },
   "outputs": [],
   "source": [
    "!wget https://bin.equinox.io/c/4VmDzA7iaHb/ngrok-stable-linux-amd64.zip"
   ]
  },
  {
   "cell_type": "code",
   "execution_count": null,
   "metadata": {
    "collapsed": false,
    "deletable": true,
    "editable": true
   },
   "outputs": [],
   "source": [
    "!unzip ngrok-stable-linux-amd64.zip"
   ]
  },
  {
   "cell_type": "code",
   "execution_count": null,
   "metadata": {
    "collapsed": false,
    "deletable": true,
    "editable": true
   },
   "outputs": [
    {
     "name": "stdout",
     "output_type": "stream",
     "text": [
      "\u001b[33mWARN\u001b[0m[04-20|18:41:00] failed to get home directory, using $HOME instead \u001b[33merr\u001b[0m=\"user: Current not implemented on linux/amd64\" \u001b[33m$HOME\u001b[0m=/content\n",
      "\u001b[?1049h\u001b[?1h\u001b=\u001b[?25l\u001b[H\u001b[2J\u001b(B\u001b[m\u001b[38;5;6m\u001b[48;5;16m\u001b[1m\u001b[1;1Hngrok\u001b(B\u001b[m\u001b[38;5;16m\u001b[48;5;16m \u001b(B\u001b[m\u001b[38;5;7m\u001b[48;5;16mby\u001b(B\u001b[m\u001b[38;5;16m\u001b[48;5;16m \u001b(B\u001b[m\u001b[38;5;6m\u001b[48;5;16m\u001b[1m@inconshreveable\u001b(B\u001b[m\u001b[38;5;16m\u001b[48;5;16m                                       \u001b(B\u001b[m\u001b[38;5;7m\u001b[48;5;16m(Ctrl+C to quit)\u001b(B\u001b[m\u001b[38;5;16m\u001b[48;5;16m\u001b[2;1H                                                                                \u001b(B\u001b[m\u001b[38;5;6m\u001b[48;5;16m\u001b[3;1HSession Status                connecting\u001b(B\u001b[m\u001b[38;5;16m\u001b[48;5;16m                                        \u001b(B\u001b[m\u001b[38;5;7m\u001b[48;5;16m\u001b[4;1HVersion                       2.2.4\u001b(B\u001b[m\u001b[38;5;16m\u001b[48;5;16m                                             \u001b(B\u001b[m\u001b[38;5;7m\u001b[48;5;16m\u001b[5;1HRegion                        United States (us)\u001b(B\u001b[m\u001b[38;5;16m\u001b[48;5;16m                                \u001b(B\u001b[m\u001b[38;5;7m\u001b[48;5;16m\u001b[6;1HWeb Interface                 http://127.0.0.1:4040\u001b(B\u001b[m\u001b[38;5;16m\u001b[48;5;16m                             \u001b[7;1H                                                                                \u001b(B\u001b[m\u001b[38;5;7m\u001b[48;5;16m\u001b[8;1HConnections                   ttl     opn     rt1     rt5     p50     p90     \u001b(B\u001b[m\u001b[38;5;16m\u001b[48;5;16m  \u001b(B\u001b[m\u001b[38;5;7m\u001b[48;5;16m\u001b[9;1H                              0       0       0.00    0.00    0.00    0.00    \u001b(B\u001b[m\u001b[38;5;16m\u001b[48;5;16m  \u001b[10;1H                                                                                \u001b[11;1H                                                                                \u001b[12;1H                                                                                \u001b[13;1H                                                                                \u001b[14;1H                                                                                \u001b[15;1H                                                                                \u001b[16;1H                                                                                \u001b[17;1H                                                                                \u001b[18;1H                                                                                \u001b[19;1H                                                                                \u001b[20;1H                                                                                \u001b[21;1H                                                                                \u001b[22;1H                                                                                \u001b[23;1H                                                                                \u001b[24;1H                                                                                \u001b(B\u001b[m\u001b[38;5;7m\u001b[48;5;16m\u001b[4;1HS\u001b[4;3Hs\u001b[4;9HExpires\u001b[4;31H7 hours, 59 minutes\u001b[5;1HV\u001b[5;3Hrsion\u001b[5;31H2.2.4\u001b(B\u001b[m\u001b[38;5;16m\u001b[48;5;16m             \u001b(B\u001b[m\u001b[38;5;7m\u001b[48;5;16m\u001b[6;1HR\u001b[6;3Hgio\u001b[6;7H       \u001b[6;31HUnited States (us)\u001b(B\u001b[m\u001b[38;5;16m\u001b[48;5;16m   \u001b(B\u001b[m\u001b[38;5;7m\u001b[48;5;16m\u001b[7;1HWeb Interface                 http://127.0.0.1:4040\u001b(B\u001b[m\u001b[38;5;16m\u001b[48;5;16m\u001b[8;1H                                                                              \u001b(B\u001b[m\u001b[38;5;7m\u001b[48;5;16m\u001b[9;1HConnections\u001b[9;31Httl\u001b[9;39Hopn\u001b[9;47Hrt1 \u001b[9;55Hrt5 \u001b[9;63Hp5\u001b[9;66H \u001b[9;71Hp9\u001b[9;74H \u001b[10;1H                              0       0       0.00    0.00    0.00    0.00    \u001b(B\u001b[m\u001b[38;5;2m\u001b[48;5;16m\u001b[3;1HSession Status                online\u001b(B\u001b[m\u001b[38;5;16m\u001b[48;5;16m    \u001b(B\u001b[m\u001b[38;5;7m\u001b[48;5;16m\u001b[8;1HForwarding                    http://9a3af58a.ngrok.io -> localhost:5000\u001b[9;1HF\u001b[9;3Hrward\u001b[9;9Hng \u001b[9;31Hh\u001b[9;33Htps://9a3af58a.ngrok.io ->\u001b[9;60Hlocalhost:500\u001b(B\u001b[m\u001b[38;5;16m\u001b[48;5;16m\u001b[9;74H     \u001b[10;1H                                                                              \u001b(B\u001b[m\u001b[38;5;7m\u001b[48;5;16m\u001b[11;1HConnections                   ttl     opn     rt1     rt5     p50     p90     \u001b[12;1H                              0       0       0.00    0.00    0.00    0.00    \u001b(B\u001b[m\u001b[38;5;3m\u001b[48;5;16m\u001b[5;1HUpdate                        update available (version 2.2.8, Ctrl-U to update)\u001b(B\u001b[m\u001b[38;5;7m\u001b[48;5;16m\u001b[6;1HV\u001b[6;3Hrsion\u001b[6;31H2.2.4\u001b(B\u001b[m\u001b[38;5;16m\u001b[48;5;16m             \u001b(B\u001b[m\u001b[38;5;7m\u001b[48;5;16m\u001b[7;1HR\u001b[7;3Hgio\u001b[7;7H       \u001b[7;31HUnited States (us)\u001b(B\u001b[m\u001b[38;5;16m\u001b[48;5;16m   \u001b(B\u001b[m\u001b[38;5;7m\u001b[48;5;16m\u001b[8;1HWeb Interface\u001b[8;38H127.0.0.1:4040\u001b(B\u001b[m\u001b[38;5;16m\u001b[48;5;16m                     \u001b(B\u001b[m\u001b[38;5;7m\u001b[48;5;16m\u001b[9;35H:/\u001b[9;38H9a3af58a.ngrok.io -> localhost:50\u001b(B\u001b[m\u001b[38;5;16m\u001b[48;5;16m\u001b[9;73H \u001b(B\u001b[m\u001b[38;5;7m\u001b[48;5;16m\u001b[10;1HForwarding                    https://9a3af58a.ngrok.io -> localhost:5000\u001b(B\u001b[m\u001b[38;5;16m\u001b[48;5;16m\u001b[11;1H                                                                              \u001b(B\u001b[m\u001b[38;5;7m\u001b[48;5;16m\u001b[12;1HConnections\u001b[12;31Httl\u001b[12;39Hopn\u001b[12;47Hrt1 \u001b[12;55Hrt5 \u001b[12;63Hp5\u001b[12;66H \u001b[12;71Hp9\u001b[12;74H \u001b[13;1H                              0       0       0.00    0.00    0.00    0.00    \u001b[15;1HHTTP Requests\u001b[16;1H-------------\u001b[18;1HPOST\u001b[18;6H/apiai/\u001b[13;39H1\u001b[18;32H200 OK\u001b[13;31H1\u001b[13;39H0\u001b[13;65H29\u001b[13;73H29\u001b[13;50H2\u001b[4;41H8\u001b[13;50H1\u001b[4;41H7\u001b[13;50H0\u001b[4;41H6"
     ]
    }
   ],
   "source": [
    "!./ngrok http 5000"
   ]
  },
  {
   "cell_type": "code",
   "execution_count": null,
   "metadata": {
    "collapsed": true,
    "deletable": true,
    "editable": true
   },
   "outputs": [],
   "source": []
  }
 ],
 "metadata": {
  "kernelspec": {
   "display_name": "Python 2",
   "language": "python",
   "name": "python2"
  },
  "language_info": {
   "codemirror_mode": {
    "name": "ipython",
    "version": 2
   },
   "file_extension": ".py",
   "mimetype": "text/x-python",
   "name": "python",
   "nbconvert_exporter": "python",
   "pygments_lexer": "ipython2",
   "version": "2.7.14"
  }
 },
 "nbformat": 4,
 "nbformat_minor": 2
}
